{
 "cells": [
  {
   "cell_type": "markdown",
   "id": "16708e59-db11-4686-a24f-c69b998a5244",
   "metadata": {},
   "source": [
    "# Checking bibliographic records for required fields\n",
    "This script is designed to check .mrc files for fields required for transfer to VSF. This is the first step, intended to skim known problems off to be addressed by a cataloger before the remainder of records are manually inspected for errors.\n",
    "\n",
    "## Importing libraries"
   ]
  },
  {
   "cell_type": "code",
   "execution_count": 1,
   "id": "cf9d0b30-0ad2-4371-b9fc-e6787f9f432e",
   "metadata": {},
   "outputs": [],
   "source": [
    "import pymarc\n",
    "from pymarc import MARCReader\n",
    "import csv"
   ]
  },
  {
   "cell_type": "markdown",
   "id": "26064ae9-612f-47f7-9381-2d0028ee0647",
   "metadata": {},
   "source": [
    "## Importing .mrc file name\n",
    "Because we are working with relatively few files, I've set this up to run one at a time. This could be improved with a batching process--identify all .mrc files in a given directory and run through them.\n",
    "\n",
    "The next two cells take user input to identify the .mrc file and provide a collection name to be used in naming output files."
   ]
  },
  {
   "cell_type": "code",
   "execution_count": 20,
   "id": "8f4baf3f-0991-4fd9-861b-915eba099a14",
   "metadata": {},
   "outputs": [
    {
     "name": "stdin",
     "output_type": "stream",
     "text": [
      "Enter file name BIBLIOGRAPHIC_50295103360002122_1.mrc\n"
     ]
    }
   ],
   "source": [
    "marcFile = input('Enter file name with file extension:')"
   ]
  },
  {
   "cell_type": "code",
   "execution_count": 24,
   "id": "cc59e3c6-1582-4a19-bf6f-610a3ccc9b1c",
   "metadata": {},
   "outputs": [
    {
     "name": "stdin",
     "output_type": "stream",
     "text": [
      "Enter collection name childrens2\n"
     ]
    }
   ],
   "source": [
    "remedySetName = input('Enter collection name')"
   ]
  },
  {
   "cell_type": "markdown",
   "id": "777326db-d7b2-473a-8960-ff7aad4c3d36",
   "metadata": {},
   "source": [
    "## Checking for MARC fields\n",
    "This cell creates a reader object using `pymarc`, sets up lists to store identifiers for records that need to be corrected by a cataloger. The logic is designed to match the bibliographic verification requirements for VSF. Running this cell will create lists that will be the basis of our .csv output files in the next cell."
   ]
  },
  {
   "cell_type": "code",
   "execution_count": 46,
   "id": "3c8f9e8e-40a5-44bd-84e9-91037ea8df14",
   "metadata": {},
   "outputs": [],
   "source": [
    "reader = MARCReader(open(marcFile,'rb'))\n",
    "setAsideAuthor = []\n",
    "setAsideDate = []\n",
    "setAsideTitle = []\n",
    "remedySetList = []\n",
    "\n",
    "for record in reader:\n",
    "    marc100 = record.get_fields('100')\n",
    "    if len(marc100) > 0:\n",
    "        pass\n",
    "    elif len(marc100) == 0:\n",
    "        marc110 = record.get_fields('110')\n",
    "        if len(marc110) > 0:\n",
    "            pass\n",
    "        elif len(marc110) == 0:\n",
    "            marc111 = record.get_fields('111')\n",
    "            if len(marc111) > 0:\n",
    "                pass\n",
    "            elif len(marc111) == 0:\n",
    "                marc700 = record.get_fields('700')\n",
    "                #try:\n",
    "                    #print(marc700[0])\n",
    "                #except:\n",
    "                if len(marc700) > 0:\n",
    "                    pass\n",
    "                elif len(marc700) == 0:\n",
    "                    setAsideAuthor.append(record['001'].value())\n",
    "                    remedySetList.append(record['001'].value())\n",
    "    try:\n",
    "        marc260c = record['260']['c']\n",
    "        pass\n",
    "    except KeyError:\n",
    "        try:\n",
    "            marc264c = record['264']['c']\n",
    "        except KeyError:\n",
    "            setAsideDate.append(record['001'].value())\n",
    "            remedySetList.append(record['001'].value())\n",
    "    if len(record['245'].value()) > 0:\n",
    "        pass\n",
    "    elif len(record['245'].value()) == 0:\n",
    "        setAsideTitle.append(record['001'].value())\n",
    "        remedySetList.append(record['001'].value())"
   ]
  },
  {
   "cell_type": "markdown",
   "id": "79ff31f1-06cc-4b82-8d22-ea9395ba9619",
   "metadata": {},
   "source": [
    "## Outputing verification results\n",
    "In this cell, we create a list of all MMSIDs (identifiers for records exported from our Alma instance). Then, we check each MMSID against the lists we formed in the cell above. For each MMSID, conditional logic sets the value to 'okay' for fields that are present in the record and 'fix' for fields that are missing. The result is a .csv file summarized the needed actions for each record.\n",
    "\n",
    "After that, we create a second file of just MMSID numbers for all items that need cataloging actions."
   ]
  },
  {
   "cell_type": "code",
   "execution_count": 50,
   "id": "3e33f30a-0985-4b91-b06c-d8fabace47d5",
   "metadata": {},
   "outputs": [],
   "source": [
    "mmsidList = []\n",
    "\n",
    "with open('remedySheet_%s.csv' %(remedySetName),'w',newline='') as remedySheet:\n",
    "    fieldnames = ['MMSID','100|110|111|700','245','260|264']\n",
    "    writer = csv.DictWriter(remedySheet,fieldnames=fieldnames)\n",
    "    writer.writeheader()\n",
    "\n",
    "    reader = MARCReader(open(marcFile,'rb'))\n",
    "    for record in reader:\n",
    "        marc001 = record['001'].value()\n",
    "        if marc001 in setAsideDate:\n",
    "            fixDate = 'fix'\n",
    "        else:\n",
    "            fixDate = 'okay1'\n",
    "        if marc001 in setAsideAuthor:\n",
    "            fixAuthor = 'fix'\n",
    "        else:\n",
    "            fixAuthor = 'okay2'\n",
    "        if marc001 in setAsideTitle:\n",
    "            fixTitle = 'fix'\n",
    "        else:\n",
    "            fixTitle = 'okay3'\n",
    "        writer.writerow({'MMSID':marc001,'100|110|111|700':fixAuthor,'245':fixTitle,'260|264':fixDate})\n",
    "        #print(marc001,fixDate,fixAuthor)\n",
    "\n",
    "\n",
    "with open('remedySet_%s.csv' %(remedySetName),'w',newline='') as remedySet:\n",
    "    fieldnames = ['MMSID']\n",
    "    remedySetWriter = csv.DictWriter(remedySet,fieldnames=fieldnames)\n",
    "    remedySetWriter.writeheader()\n",
    "    \n",
    "    for problem in remedySetList:\n",
    "        remedySetWriter.writerow({'MMSID':marc001})"
   ]
  },
  {
   "cell_type": "code",
   "execution_count": null,
   "id": "31c75ad7-d559-42ac-89d8-5c2a4f646f87",
   "metadata": {},
   "outputs": [],
   "source": []
  }
 ],
 "metadata": {
  "kernelspec": {
   "display_name": "Python 3 (ipykernel)",
   "language": "python",
   "name": "python3"
  },
  "language_info": {
   "codemirror_mode": {
    "name": "ipython",
    "version": 3
   },
   "file_extension": ".py",
   "mimetype": "text/x-python",
   "name": "python",
   "nbconvert_exporter": "python",
   "pygments_lexer": "ipython3",
   "version": "3.9.13"
  }
 },
 "nbformat": 4,
 "nbformat_minor": 5
}
